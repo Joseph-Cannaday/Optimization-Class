{
 "cells": [
  {
   "cell_type": "code",
   "execution_count": 37,
   "id": "d1d8dc07",
   "metadata": {},
   "outputs": [],
   "source": [
    "import numpy as np\n",
    "import matplotlib.pyplot as plt"
   ]
  },
  {
   "cell_type": "code",
   "execution_count": 38,
   "id": "029fd730",
   "metadata": {},
   "outputs": [],
   "source": [
    "M = 5\n",
    "# list of M evenly space x measurements\n",
    "xobs = np.linspace(-1, 1, M)"
   ]
  },
  {
   "cell_type": "code",
   "execution_count": 39,
   "id": "7add3a00",
   "metadata": {},
   "outputs": [
    {
     "name": "stdout",
     "output_type": "stream",
     "text": [
      "[-1.  -0.5  0.   0.5  1. ]\n"
     ]
    }
   ],
   "source": [
    "print(xobs)"
   ]
  },
  {
   "cell_type": "code",
   "execution_count": 40,
   "id": "b2170d44",
   "metadata": {},
   "outputs": [
    {
     "name": "stdout",
     "output_type": "stream",
     "text": [
      "[0.   0.75 1.   0.75 0.  ]\n"
     ]
    }
   ],
   "source": [
    "yobs = 1 - xobs ** 2\n",
    "print(yobs)"
   ]
  },
  {
   "cell_type": "code",
   "execution_count": 41,
   "id": "24b6b40c",
   "metadata": {},
   "outputs": [
    {
     "name": "stdout",
     "output_type": "stream",
     "text": [
      "[[ 1.     -1.      1.     -1.      1.    ]\n",
      " [ 1.     -0.5     0.25   -0.125   0.0625]\n",
      " [ 1.      0.      0.      0.      0.    ]\n",
      " [ 1.      0.5     0.25    0.125   0.0625]\n",
      " [ 1.      1.      1.      1.      1.    ]]\n"
     ]
    }
   ],
   "source": [
    "#creates and fills an MxN observation matrix\n",
    "N = 5\n",
    "def makeMatrix(m, n):\n",
    "    x = np.empty([m,n])\n",
    "    for i in range(0,m):\n",
    "        for j in range(0,n):\n",
    "            x[i,j] = xobs[i] ** j \n",
    "    return x\n",
    "X = makeMatrix(M,N)\n",
    "print(X)"
   ]
  },
  {
   "cell_type": "code",
   "execution_count": 42,
   "id": "96e20b6a",
   "metadata": {},
   "outputs": [
    {
     "name": "stdout",
     "output_type": "stream",
     "text": [
      "[ 1.  0. -1.  0.  0.]\n"
     ]
    }
   ],
   "source": [
    "#M = N must be true for the system to be solved by inverting X\n",
    "Xinv = np.linalg.inv(X)\n",
    "alpha = np.matmul(Xinv,yobs)\n",
    "print(alpha) #M = 5 gives the exact f(x) and for M > 5 all other alpha values become negligibly small"
   ]
  },
  {
   "cell_type": "code",
   "execution_count": 69,
   "id": "da8d5b80",
   "metadata": {},
   "outputs": [
    {
     "name": "stdout",
     "output_type": "stream",
     "text": [
      "[ 1.          0.         -0.96153846]\n"
     ]
    }
   ],
   "source": [
    "M = 3\n",
    "N = 3\n",
    "xobs = np.linspace(-1, 1, M)\n",
    "yobs = 1 / (1 + 25 * xobs ** 2)\n",
    "X = makeMatrix(M,N)\n",
    "\n",
    "def solvev1(x, y):\n",
    "    Xinv = np.linalg.inv(x)\n",
    "    alpha = np.matmul(Xinv, y)\n",
    "    return alpha\n",
    "a = solvev1(X, yobs)\n",
    "print(a)"
   ]
  },
  {
   "cell_type": "code",
   "execution_count": 94,
   "id": "2c74a546",
   "metadata": {},
   "outputs": [
    {
     "name": "stdout",
     "output_type": "stream",
     "text": [
      "[[0.41438462 3.587      0.22938462]]\n"
     ]
    }
   ],
   "source": [
    "def approx(alpha, x, m, n):\n",
    "    y = np.empty([1, m])\n",
    "    for i in range(0, m):\n",
    "        #for j in range(0,n):\n",
    "        y = y + alpha[i] * (x ** i)\n",
    "    return y\n",
    "yhat = approx(a, xobs, M, N)    \n",
    "print(yhat)"
   ]
  },
  {
   "cell_type": "code",
   "execution_count": 115,
   "id": "3764704a",
   "metadata": {},
   "outputs": [
    {
     "name": "stdout",
     "output_type": "stream",
     "text": [
      "[ 1.          0.         -0.96153846]\n",
      "[[ 1.03846154  1.         -0.92307692]]\n"
     ]
    },
    {
     "data": {
      "text/plain": [
       "[<matplotlib.lines.Line2D at 0x7f23b52ec400>]"
      ]
     },
     "execution_count": 115,
     "metadata": {},
     "output_type": "execute_result"
    },
    {
     "data": {
      "image/png": "[encoded data removed]",
      "text/plain": [
       "<Figure size 432x288 with 1 Axes>"
      ]
     },
     "metadata": {
      "needs_background": "light"
     },
     "output_type": "display_data"
    }
   ],
   "source": [
    "#shape of M = 3 is probably the closest shape to the original\n",
    "M = 3\n",
    "N = 3\n",
    "xobs = np.linspace(-1, 1, M)\n",
    "#print(xobs)\n",
    "yobs = 1 / (1 + 25 * xobs ** 2)\n",
    "#print(yobs)\n",
    "X = makeMatrix(M,N)\n",
    "a = solvev1(X, yobs)\n",
    "print(a)\n",
    "yhat = approx(a, xobs, M, N)    \n",
    "print(yhat)\n",
    "plt.plot(xobs, yobs)\n",
    "plt.plot(xobs, np.transpose(yhat))"
   ]
  },
  {
   "cell_type": "code",
   "execution_count": 117,
   "id": "d5c8bba6",
   "metadata": {},
   "outputs": [
    {
     "data": {
      "text/plain": [
       "[<matplotlib.lines.Line2D at 0x7f23b51c2c40>]"
      ]
     },
     "execution_count": 117,
     "metadata": {},
     "output_type": "execute_result"
    },
    {
     "data": {
      "image/png": "[encoded data removed]",
      "text/plain": [
       "<Figure size 432x288 with 1 Axes>"
      ]
     },
     "metadata": {
      "needs_background": "light"
     },
     "output_type": "display_data"
    }
   ],
   "source": [
    "M = 21\n",
    "N = 21\n",
    "xobs = np.linspace(-1, 1, M)\n",
    "#print(xobs)\n",
    "yobs = 1 / (1 + 25 * xobs ** 2)\n",
    "#print(yobs)\n",
    "X = makeMatrix(M,N)\n",
    "a = solvev1(X, yobs)\n",
    "#print(a)\n",
    "yhat = approx(a, xobs, M, N)    \n",
    "#print(yhat)\n",
    "plt.plot(xobs, yobs)\n",
    "plt.plot(xobs, np.transpose(yhat))"
   ]
  },
  {
   "cell_type": "code",
   "execution_count": 118,
   "id": "22284113",
   "metadata": {},
   "outputs": [],
   "source": [
    "def solvev2(x, y):\n",
    "    #calculates the psuedoinverse of the matrix and multiplies it by y\n",
    "    Xinv = np.matmul(np.linalg.inv(np.matmul(np.transpose(x),x)), np.transpose(x))\n",
    "    alpha = np.matmul(Xinv, y)\n",
    "    return alpha"
   ]
  },
  {
   "cell_type": "code",
   "execution_count": null,
   "id": "3cbb74d4",
   "metadata": {},
   "outputs": [],
   "source": []
  }
 ],
 "metadata": {
  "kernelspec": {
   "display_name": "Python 3 (ipykernel)",
   "language": "python",
   "name": "python3"
  },
  "language_info": {
   "codemirror_mode": {
    "name": "ipython",
    "version": 3
   },
   "file_extension": ".py",
   "mimetype": "text/x-python",
   "name": "python",
   "nbconvert_exporter": "python",
   "pygments_lexer": "ipython3",
   "version": "3.9.6"
  }
 },
 "nbformat": 4,
 "nbformat_minor": 5
}
