{
 "cells": [
  {
   "cell_type": "code",
   "execution_count": 7,
   "id": "6d117902",
   "metadata": {},
   "outputs": [],
   "source": [
    "import matplotlib.pyplot as plt\n",
    "import pandas as pd\n",
    "import numpy as np\n",
    "import math"
   ]
  },
  {
   "cell_type": "code",
   "execution_count": 3,
   "id": "187fdcf5",
   "metadata": {},
   "outputs": [
    {
     "data": {
      "text/html": [
       "<div>\n",
       "<style scoped>\n",
       "    .dataframe tbody tr th:only-of-type {\n",
       "        vertical-align: middle;\n",
       "    }\n",
       "\n",
       "    .dataframe tbody tr th {\n",
       "        vertical-align: top;\n",
       "    }\n",
       "\n",
       "    .dataframe thead th {\n",
       "        text-align: right;\n",
       "    }\n",
       "</style>\n",
       "<table border=\"1\" class=\"dataframe\">\n",
       "  <thead>\n",
       "    <tr style=\"text-align: right;\">\n",
       "      <th></th>\n",
       "      <th>X</th>\n",
       "      <th>Y</th>\n",
       "    </tr>\n",
       "  </thead>\n",
       "  <tbody>\n",
       "    <tr>\n",
       "      <th>0</th>\n",
       "      <td>-4.45270</td>\n",
       "      <td>-0.467520</td>\n",
       "    </tr>\n",
       "    <tr>\n",
       "      <th>1</th>\n",
       "      <td>-5.46310</td>\n",
       "      <td>-0.331160</td>\n",
       "    </tr>\n",
       "    <tr>\n",
       "      <th>2</th>\n",
       "      <td>-4.92270</td>\n",
       "      <td>0.536550</td>\n",
       "    </tr>\n",
       "    <tr>\n",
       "      <th>3</th>\n",
       "      <td>1.60150</td>\n",
       "      <td>1.019700</td>\n",
       "    </tr>\n",
       "    <tr>\n",
       "      <th>4</th>\n",
       "      <td>-0.31362</td>\n",
       "      <td>1.022400</td>\n",
       "    </tr>\n",
       "    <tr>\n",
       "      <th>5</th>\n",
       "      <td>-4.89180</td>\n",
       "      <td>-0.483410</td>\n",
       "    </tr>\n",
       "    <tr>\n",
       "      <th>6</th>\n",
       "      <td>-4.97640</td>\n",
       "      <td>0.544690</td>\n",
       "    </tr>\n",
       "    <tr>\n",
       "      <th>7</th>\n",
       "      <td>4.54260</td>\n",
       "      <td>0.547150</td>\n",
       "    </tr>\n",
       "    <tr>\n",
       "      <th>8</th>\n",
       "      <td>-5.08720</td>\n",
       "      <td>0.358870</td>\n",
       "    </tr>\n",
       "    <tr>\n",
       "      <th>9</th>\n",
       "      <td>-2.05290</td>\n",
       "      <td>0.993280</td>\n",
       "    </tr>\n",
       "    <tr>\n",
       "      <th>10</th>\n",
       "      <td>-2.42340</td>\n",
       "      <td>1.008300</td>\n",
       "    </tr>\n",
       "    <tr>\n",
       "      <th>11</th>\n",
       "      <td>4.72090</td>\n",
       "      <td>0.629330</td>\n",
       "    </tr>\n",
       "    <tr>\n",
       "      <th>12</th>\n",
       "      <td>-0.17503</td>\n",
       "      <td>1.036300</td>\n",
       "    </tr>\n",
       "    <tr>\n",
       "      <th>13</th>\n",
       "      <td>-0.73991</td>\n",
       "      <td>1.039300</td>\n",
       "    </tr>\n",
       "    <tr>\n",
       "      <th>14</th>\n",
       "      <td>-5.56410</td>\n",
       "      <td>0.339260</td>\n",
       "    </tr>\n",
       "    <tr>\n",
       "      <th>15</th>\n",
       "      <td>-5.58350</td>\n",
       "      <td>-0.038243</td>\n",
       "    </tr>\n",
       "    <tr>\n",
       "      <th>16</th>\n",
       "      <td>2.82050</td>\n",
       "      <td>0.905420</td>\n",
       "    </tr>\n",
       "    <tr>\n",
       "      <th>17</th>\n",
       "      <td>4.02940</td>\n",
       "      <td>0.692920</td>\n",
       "    </tr>\n",
       "    <tr>\n",
       "      <th>18</th>\n",
       "      <td>4.41240</td>\n",
       "      <td>0.578740</td>\n",
       "    </tr>\n",
       "    <tr>\n",
       "      <th>19</th>\n",
       "      <td>1.96440</td>\n",
       "      <td>1.051200</td>\n",
       "    </tr>\n",
       "  </tbody>\n",
       "</table>\n",
       "</div>"
      ],
      "text/plain": [
       "          X         Y\n",
       "0  -4.45270 -0.467520\n",
       "1  -5.46310 -0.331160\n",
       "2  -4.92270  0.536550\n",
       "3   1.60150  1.019700\n",
       "4  -0.31362  1.022400\n",
       "5  -4.89180 -0.483410\n",
       "6  -4.97640  0.544690\n",
       "7   4.54260  0.547150\n",
       "8  -5.08720  0.358870\n",
       "9  -2.05290  0.993280\n",
       "10 -2.42340  1.008300\n",
       "11  4.72090  0.629330\n",
       "12 -0.17503  1.036300\n",
       "13 -0.73991  1.039300\n",
       "14 -5.56410  0.339260\n",
       "15 -5.58350 -0.038243\n",
       "16  2.82050  0.905420\n",
       "17  4.02940  0.692920\n",
       "18  4.41240  0.578740\n",
       "19  1.96440  1.051200"
      ]
     },
     "execution_count": 3,
     "metadata": {},
     "output_type": "execute_result"
    }
   ],
   "source": [
    "#read in data\n",
    "df = pd.read_csv('asteroid_data.csv')\n",
    "df"
   ]
  },
  {
   "cell_type": "code",
   "execution_count": 4,
   "id": "acd55b7b",
   "metadata": {},
   "outputs": [
    {
     "name": "stdout",
     "output_type": "stream",
     "text": [
      "88.09362086587987 9.298302439966943 329.2744459254734\n"
     ]
    }
   ],
   "source": [
    "# define the number of terms M, as well as summations for x_n^2, y_n^2, x_n^4, y_n^4, x_n^2 * y_n^2\n",
    "m = len(df)\n",
    "x2y2bar = 0\n",
    "x2bar = 0\n",
    "y2bar = 0\n",
    "x4bar = 0\n",
    "y4bar = 0\n",
    "for i in range(0, m):\n",
    "    x2y2bar = x2y2bar + (df['X'][i] ** 2) * (df['Y'][i] ** 2)\n",
    "    x2bar = x2bar + df['X'][i] ** 2\n",
    "    y2bar = y2bar + df['Y'][i] ** 2\n",
    "    x4bar = x2bar + df['X'][i] ** 4\n",
    "    y4bar = y4bar + df['Y'][i] ** 4\n",
    "print(x2y2bar,y4bar,x4bar)"
   ]
  },
  {
   "cell_type": "code",
   "execution_count": 17,
   "id": "1e2acd69",
   "metadata": {
    "scrolled": true
   },
   "outputs": [
    {
     "name": "stdout",
     "output_type": "stream",
     "text": [
      "-0.41459024283556856 \n",
      " 5.118390601808372\n"
     ]
    }
   ],
   "source": [
    "#compute determinant of (A^TA) and apply derived formulas to compute the unknowns for our equation()\n",
    "det = (x4bar * y4bar) -  (x2y2bar ** 2)\n",
    "a1hat = (y4bar * x2bar - x2y2bar * y2bar ) /det\n",
    "a2hat = (-x2y2bar * x2bar + x4bar * y2bar) / det\n",
    "print (a1hat, \"\\n\", a2hat)"
   ]
  },
  {
   "cell_type": "markdown",
   "id": "b36727af",
   "metadata": {},
   "source": [
    "After checking my math several times, I still can't find out where the error is in my work which makes a1hat negative, so for the sake of completeness, I'll just make a1hat positive and move on"
   ]
  },
  {
   "cell_type": "code",
   "execution_count": 8,
   "id": "f54d8971",
   "metadata": {},
   "outputs": [
    {
     "name": "stdout",
     "output_type": "stream",
     "text": [
      "1.553067964530969 0.4420112136282199\n"
     ]
    }
   ],
   "source": [
    "#compute ellipse parameters based on computed vector in previous step\n",
    "vx = math.sqrt(-1 / a1hat)\n",
    "vy = math.sqrt(1 / a2hat)\n",
    "print (vx, vy)"
   ]
  },
  {
   "cell_type": "code",
   "execution_count": 29,
   "id": "da182085",
   "metadata": {},
   "outputs": [
    {
     "data": {
      "text/plain": [
       "[<matplotlib.lines.Line2D at 0x7f80cbefd5e0>]"
      ]
     },
     "execution_count": 29,
     "metadata": {},
     "output_type": "execute_result"
    },
    {
     "data": {
      "image/png": "[encoded data removed]",
      "text/plain": [
       "<Figure size 432x288 with 1 Axes>"
      ]
     },
     "metadata": {
      "needs_background": "light"
     },
     "output_type": "display_data"
    }
   ],
   "source": [
    "#plot raw data\n",
    "plt.plot(df['X'], df['Y'], 'o')"
   ]
  },
  {
   "cell_type": "code",
   "execution_count": 15,
   "id": "c3d94059",
   "metadata": {},
   "outputs": [
    {
     "data": {
      "text/plain": [
       "[<matplotlib.lines.Line2D at 0x7f426f5ef3a0>]"
      ]
     },
     "execution_count": 15,
     "metadata": {},
     "output_type": "execute_result"
    },
    {
     "data": {
      "image/png": "[encoded data removed]",
      "text/plain": [
       "<Figure size 432x288 with 1 Axes>"
      ]
     },
     "metadata": {
      "needs_background": "light"
     },
     "output_type": "display_data"
    }
   ],
   "source": [
    "#plots computed ellipse estimate\n",
    "t = np.arange(0, 2*math.pi, .01)\n",
    "#plt.plot(df['X'], df['Y'], 'o')\n",
    "plt.plot(vx * np.cos(t), vy * np.sin(t))"
   ]
  },
  {
   "cell_type": "markdown",
   "id": "8dd428a8",
   "metadata": {},
   "source": [
    "It's pretty clear that the scales don't match up, so something went wrong, but after several hours of searching, I still can't figure out how to get accurate results. Here's what the two look like on the same graph:"
   ]
  },
  {
   "cell_type": "code",
   "execution_count": 16,
   "id": "60f8de7e",
   "metadata": {},
   "outputs": [
    {
     "data": {
      "text/plain": [
       "[<matplotlib.lines.Line2D at 0x7f426f5d19d0>]"
      ]
     },
     "execution_count": 16,
     "metadata": {},
     "output_type": "execute_result"
    },
    {
     "data": {
      "image/png": "[encoded data removed]",
      "text/plain": [
       "<Figure size 432x288 with 1 Axes>"
      ]
     },
     "metadata": {
      "needs_background": "light"
     },
     "output_type": "display_data"
    }
   ],
   "source": [
    "plt.plot(df['X'], df['Y'], 'o')\n",
    "plt.plot(vx * np.cos(t), vy * np.sin(t))"
   ]
  }
 ],
 "metadata": {
  "kernelspec": {
   "display_name": "Python 3 (ipykernel)",
   "language": "python",
   "name": "python3"
  },
  "language_info": {
   "codemirror_mode": {
    "name": "ipython",
    "version": 3
   },
   "file_extension": ".py",
   "mimetype": "text/x-python",
   "name": "python",
   "nbconvert_exporter": "python",
   "pygments_lexer": "ipython3",
   "version": "3.9.6"
  }
 },
 "nbformat": 4,
 "nbformat_minor": 5
}
