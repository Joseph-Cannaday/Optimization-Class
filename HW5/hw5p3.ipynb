{
 "cells": [
  {
   "cell_type": "code",
   "execution_count": 4,
   "id": "b7534735",
   "metadata": {},
   "outputs": [],
   "source": [
    "import numpy as np\n",
    "import matplotlib.pyplot as plt"
   ]
  },
  {
   "cell_type": "code",
   "execution_count": 60,
   "id": "95d48c77",
   "metadata": {},
   "outputs": [],
   "source": [
    "\"\"\"\n",
    "define functions and their gradients/hessian\n",
    "\"\"\"\n",
    "maxit = 100\n",
    "epsilon = 10 ** -6\n",
    "f1 = lambda x: 25 * x**2\n",
    "f2 = lambda x: x ** 2 + 48 * x - 24\n",
    "f3 = lambda x: 25 * x ** 2 - 48 * x + 72\n",
    "#t = np.linspace(-5,5,1000)\n",
    "def func(t):\n",
    "    return np.piecewise(t,[(t<1),(t >= 1) & (t<=2), (t>2)], [f1,f2,f3])\n",
    "def grad(t):\n",
    "    return np.piecewise(t, [(t<1),(t >= 1) & (t<=2), (t>2)], [lambda x:50*x,lambda x:2*x+48,lambda x:50*x-48])\n",
    "def hess(t):\n",
    "    return np.piecewise(t, [(t<1),(t >= 1) & (t<=2), (t>2)], [lambda x:50,lambda x:2,lambda x:50])\n"
   ]
  },
  {
   "cell_type": "code",
   "execution_count": 47,
   "id": "0abdc7da",
   "metadata": {},
   "outputs": [],
   "source": [
    "def graddescentfs (x0,a): #fixed step gradient descent\n",
    "    k = 0\n",
    "    x = []\n",
    "    x.append(x0)\n",
    "    d = []\n",
    "    d.append(-grad(x[k]))\n",
    "    while np.abs(d[k]) > epsilon and k <= maxit:#stop when gradient is changing slowest\n",
    "        x.append(x[k] + a * float(d[k]))\n",
    "        k = k + 1\n",
    "        d.append(-grad(x[k]))\n",
    "    print(\"Number of iterations: \", k+1)\n",
    "    return x, d\n"
   ]
  },
  {
   "cell_type": "code",
   "execution_count": 53,
   "id": "e74dc6ed",
   "metadata": {},
   "outputs": [
    {
     "name": "stdout",
     "output_type": "stream",
     "text": [
      "Number of iterations:  3\n",
      "[5, 0.96, 0.0] \n",
      " [-202, -48.0, -0.0]\n"
     ]
    }
   ],
   "source": [
    "x, d = graddescentfs(5, 1/50)\n",
    "print(x,\"\\n\",d)"
   ]
  },
  {
   "cell_type": "code",
   "execution_count": 49,
   "id": "767f4d57",
   "metadata": {},
   "outputs": [],
   "source": [
    "def heavyball(x0,a,b):\n",
    "    k = 0\n",
    "    x = []\n",
    "    x.append(x0)\n",
    "    d = []\n",
    "    p = []\n",
    "    p.append(0)\n",
    "    d.append(-grad(x[k])+b/a*p[k])\n",
    "    while np.abs(grad(x[k])) > epsilon and k <= maxit:\n",
    "        x.append(x[k] + a * float(d[k]))#update x\n",
    "        k=k+1#increment k\n",
    "        p.append(x[k]-x[k-1])#update p\n",
    "        d.append(-grad(x[k])+b/a*p[k])#compute d\n",
    "    print(\"Number of iterations: \", k+1)\n",
    "    return x,d"
   ]
  },
  {
   "cell_type": "code",
   "execution_count": 52,
   "id": "6d7bb47f",
   "metadata": {},
   "outputs": [
    {
     "name": "stdout",
     "output_type": "stream",
     "text": [
      "Number of iterations:  59\n",
      "[5, -6.222222222222221, 6.074074074074073, -2.6666666666666643, 0.855967078189297, 0.043895747599454804, -0.4389574759945162, 0.5657674135040417, -0.559264339785604, 0.49423360260123117, -0.4104162080080397, 0.32756223174350574, -0.2543424387655455, 0.19354003757916932, -0.14501229954309436, 0.10733193824449494, -0.07865934008461797, 0.057176036448604, -0.04127500856053068, 0.02962177299243912, -0.02115124907412741, 0.015036432991085827, -0.01064802217739114, 0.007514503796038935, -0.005286884093655851, 0.0037093993266349382, -0.0025961395049995395, 0.0018128974170505243, -0.0012633567760675707, 0.0008787435160676391, -0.0006101661209490428, 0.0004230021541242175, -0.00029281792952160434, 0.0002024229486402647, -0.00013975596284408428, 9.637552884088357e-05, -6.638694385714062e-05, 4.568235676912813e-05, -3.140450064455278e-05, 2.156939785090231e-05, -1.4801641292512958e-05, 1.0149122678505139e-05, -6.953656330223313e-06, 4.760820583184356e-06, -3.2572468530354453e-06, 2.2270755448542137e-06, -1.521768791789865e-06, 1.0392137024512802e-06, -7.092765846951003e-07, 4.83829356281787e-07, -3.298717707334491e-07, 2.2479375818602672e-07, -1.5311533503316934e-07, 1.0424544307265831e-07, -7.094266408213583e-08, 4.8258910743888514e-08, -3.281514139979096e-08, 2.2305117091326385e-08, -1.5155648832972532e-08] \n",
      " [-202.0, 221.33333333333331, -157.3333333333333, 63.407407407407305, -14.61728395061716, -8.691358024691478, 18.08504801097404, -20.250571559213622, 18.962962962963033, -16.283696590966876, 13.283611915527818, -10.474284069162923, 8.061884574204868, -6.093942068200747, 4.542196280176608, -3.3478430099240324, 2.4450367775979958, -1.7721188101644243, 1.2761420679534565, -0.9139143971981976, 0.6513782771738383, -0.4623201930325854, 0.32692546752174134, -0.23042498201450615, 0.16193310156523422, -0.11349969896942061, 0.07936266459690115, -0.05537257547612571, 0.038557805258433775, -0.026800373466300275, 0.018597028951318685, -0.012884761505624794, 0.008914335806913642, -0.006159220406718282, 0.004250366850329422, -0.0029297245085644357, 0.0020172474112728376, -0.0013875634334462564, 0.0009535301729181917, -0.0006546787045814749, 0.00044911375147832576, -0.00030785002215711217, 0.00021086058444133807, -0.00014432521385195643, 9.871780316201386e-05, -6.747919805959342e-05, 4.609768489634061e-05, -3.147282516863485e-05, 2.1475906937583973e-05, -1.464662028627425e-05, 9.983979520550565e-06, -6.802363677945529e-06, 4.6324940059048974e-06, -3.1533859287862947e-06, 2.1456283468684383e-06, -1.4593329385862307e-06, 9.921646528401124e-07, -6.742937866373806e-07, 4.580963142542353e-07]\n"
     ]
    }
   ],
   "source": [
    "x, d = heavyball(5,1/18,4/9)\n",
    "print(x,\"\\n\",d)"
   ]
  },
  {
   "cell_type": "code",
   "execution_count": 58,
   "id": "bc2c7bf3",
   "metadata": {},
   "outputs": [],
   "source": [
    "def nesterov(x0, a):\n",
    "    k = 0\n",
    "    x = []\n",
    "    x.append(x0)\n",
    "    d = []\n",
    "    p = []\n",
    "    p.append(0)\n",
    "    b = (k-1)/(k+2)\n",
    "    d.append(-grad(x[k])+b/a*p[k])\n",
    "    while np.abs(grad(x[k])) > epsilon and k <= maxit:\n",
    "        x.append(x[k] + a * float(d[k]))#update x\n",
    "        k=k+1#increment k\n",
    "        p.append(x[k]-x[k-1])#update p\n",
    "        b = (k-1)/(k+2)#update b\n",
    "        d.append(-grad(x[k]+b*p[k])+b/a*p[k])#compute d\n",
    "    print(\"Number of iterations: \", k+1)\n",
    "    return x,d"
   ]
  },
  {
   "cell_type": "code",
   "execution_count": 59,
   "id": "0843bbea",
   "metadata": {},
   "outputs": [
    {
     "name": "stdout",
     "output_type": "stream",
     "text": [
      "Number of iterations:  3\n",
      "[5, 0.96, 0.0] \n",
      " [-202.0, -48.0, 0.0]\n"
     ]
    }
   ],
   "source": [
    "x, d = nesterov(5,1/50)\n",
    "print(x,\"\\n\",d)"
   ]
  },
  {
   "cell_type": "code",
   "execution_count": 61,
   "id": "83906289",
   "metadata": {},
   "outputs": [],
   "source": [
    "def newton(x0, a):\n",
    "    k = 0\n",
    "    x = []\n",
    "    x.append(x0)\n",
    "    d = []\n",
    "    d.append(-grad(x[k])/hess(x[k]))\n",
    "    while np.abs(grad(x[k])) > epsilon and k <= maxit:\n",
    "        x.append(x[k] + a * float(d[k]))#update x\n",
    "        k=k+1#increment k\n",
    "        d.append(-grad(x[k])/hess(x[k]))#compute d\n",
    "    print(\"Number of iterations: \", k+1)\n",
    "    return x,d"
   ]
  },
  {
   "cell_type": "code",
   "execution_count": 62,
   "id": "b75de4ae",
   "metadata": {},
   "outputs": [
    {
     "name": "stdout",
     "output_type": "stream",
     "text": [
      "Number of iterations:  3\n",
      "[5, 0.96, 0.0] \n",
      " [-4.04, -0.96, -0.0]\n"
     ]
    }
   ],
   "source": [
    "x, d = newton(5,1)\n",
    "print(x,\"\\n\",d)"
   ]
  }
 ],
 "metadata": {
  "kernelspec": {
   "display_name": "Python 3 (ipykernel)",
   "language": "python",
   "name": "python3"
  },
  "language_info": {
   "codemirror_mode": {
    "name": "ipython",
    "version": 3
   },
   "file_extension": ".py",
   "mimetype": "text/x-python",
   "name": "python",
   "nbconvert_exporter": "python",
   "pygments_lexer": "ipython3",
   "version": "3.9.7"
  }
 },
 "nbformat": 4,
 "nbformat_minor": 5
}
