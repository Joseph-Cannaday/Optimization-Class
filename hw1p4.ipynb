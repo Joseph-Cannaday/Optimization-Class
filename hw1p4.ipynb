{
 "cells": [
  {
   "cell_type": "code",
   "execution_count": 1,
   "id": "e0aeddaf",
   "metadata": {},
   "outputs": [],
   "source": [
    "from bs4 import BeautifulSoup\n",
    "import requests\n",
    "import numpy as np"
   ]
  },
  {
   "cell_type": "code",
   "execution_count": 2,
   "id": "d719bb0f",
   "metadata": {},
   "outputs": [],
   "source": [
    "url = requests.get('https://en.wikipedia.org/wiki/Transistor_count').text"
   ]
  },
  {
   "cell_type": "code",
   "execution_count": 3,
   "id": "71fcc093",
   "metadata": {},
   "outputs": [],
   "source": [
    "#pull html from wiki page\n",
    "soup = BeautifulSoup(url, 'lxml')"
   ]
  },
  {
   "cell_type": "code",
   "execution_count": 4,
   "id": "793bf34b",
   "metadata": {},
   "outputs": [],
   "source": [
    "#locate the wikitable in the page\n",
    "ttable = soup.find('table', {'class', 'wikitable sortable'})"
   ]
  },
  {
   "cell_type": "code",
   "execution_count": 5,
   "id": "67d6c5ad",
   "metadata": {},
   "outputs": [
    {
     "data": {
      "text/plain": [
       "<tr>\n",
       "<th><a href=\"/wiki/Microprocessor\" title=\"Microprocessor\">Processor</a>\n",
       "</th>\n",
       "<th data-sort-type=\"number\"><a class=\"mw-redirect\" href=\"/wiki/MOS_transistor\" title=\"MOS transistor\">MOS transistor</a> count\n",
       "</th>\n",
       "<th>Date of<br/>introduction\n",
       "</th>\n",
       "<th>Designer\n",
       "</th>\n",
       "<th data-sort-type=\"number\"><a href=\"/wiki/MOSFET\" title=\"MOSFET\">MOS</a> <a href=\"/wiki/Semiconductor_device_fabrication\" title=\"Semiconductor device fabrication\">process</a><br/>(<a href=\"/wiki/Nanometre\" title=\"Nanometre\">nm</a>)\n",
       "</th>\n",
       "<th data-sort-type=\"number\">Area (<a href=\"/wiki/Millimetre\" title=\"Millimetre\">mm</a><sup>2</sup>)\n",
       "</th></tr>"
      ]
     },
     "execution_count": 5,
     "metadata": {},
     "output_type": "execute_result"
    }
   ],
   "source": [
    "#make a list of all table row entries & remove titles\n",
    "rows = ttable.find_all('tr')\n",
    "rows.pop(0)"
   ]
  },
  {
   "cell_type": "code",
   "execution_count": 7,
   "id": "1dd29391",
   "metadata": {},
   "outputs": [],
   "source": [
    "#pull transistor numbers and years from rows and append them to lists\n",
    "tnum = []\n",
    "years = []\n",
    "for row in rows:\n",
    "    l = list(row.children)\n",
    "    tr = str(l[3])\n",
    "    st = tr.index('>') + 1\n",
    "    #weird exception case for a 2-width row\n",
    "    if st > 4 or len(l)< 6:\n",
    "        continue\n",
    "    i = st\n",
    "    while tr[i].isdecimal() or tr[i] == ',':\n",
    "        i = i + 1\n",
    "    end = i\n",
    "    trans = int(tr[st:end].replace(',', ''))\n",
    "    tnum.append(trans)\n",
    "    y = str(l[5])\n",
    "    st = y.index('>') + 1\n",
    "    end = y.index('<', 1)\n",
    "    years.append(int(y[st:end]))\n",
    "\n",
    "#append weird 2 row exception case\n",
    "tnum.append(2000000000)\n",
    "years.append(2015)"
   ]
  },
  {
   "cell_type": "code",
   "execution_count": 8,
   "id": "09980765",
   "metadata": {},
   "outputs": [],
   "source": [
    "#apply log base 2 transform of data to make relation between transistor number and year more obvious\n",
    "import math\n",
    "ltnum = [math.log(num, 2) for num in tnum]"
   ]
  },
  {
   "cell_type": "code",
   "execution_count": 9,
   "id": "08728471",
   "metadata": {},
   "outputs": [
    {
     "data": {
      "text/plain": [
       "[<matplotlib.lines.Line2D at 0x7fc438139a30>]"
      ]
     },
     "execution_count": 9,
     "metadata": {},
     "output_type": "execute_result"
    },
    {
     "data": {
      "image/png": "[encoded data removed]",
      "text/plain": [
       "<Figure size 432x288 with 1 Axes>"
      ]
     },
     "metadata": {
      "needs_background": "light"
     },
     "output_type": "display_data"
    }
   ],
   "source": [
    "#plot raw data\n",
    "import matplotlib.pyplot as plt\n",
    "plt.plot(years, tnum, 'o')"
   ]
  },
  {
   "cell_type": "code",
   "execution_count": 10,
   "id": "c97a49e5",
   "metadata": {},
   "outputs": [
    {
     "data": {
      "text/plain": [
       "[<matplotlib.lines.Line2D at 0x7fc43803c670>]"
      ]
     },
     "execution_count": 10,
     "metadata": {},
     "output_type": "execute_result"
    },
    {
     "data": {
      "image/png": "[encoded data removed]",
      "text/plain": [
       "<Figure size 432x288 with 1 Axes>"
      ]
     },
     "metadata": {
      "needs_background": "light"
     },
     "output_type": "display_data"
    }
   ],
   "source": [
    "#plot with log transform\n",
    "plt.plot(years, ltnum, 'o')"
   ]
  },
  {
   "cell_type": "code",
   "execution_count": 11,
   "id": "6178e6a1",
   "metadata": {},
   "outputs": [
    {
     "name": "stdout",
     "output_type": "stream",
     "text": [
      "6115.0\n",
      "4841.954239830337\n",
      "173775.4953412702\n",
      "235817.0\n"
     ]
    }
   ],
   "source": [
    "#compute summations of x_m, y_m, x^2_m, x_m*y_m where M is number of entries\n",
    "m = len(years)\n",
    "yearspast1970 = [float(year - 1970) for year in years]\n",
    "xbar = 0\n",
    "ybar = 0\n",
    "xybar = 0\n",
    "x2bar = 0\n",
    "for i in range(0, m):\n",
    "    xbar = xbar + yearspast1970[i]\n",
    "    ybar = ybar + ltnum[i]\n",
    "    x2bar = x2bar + yearspast1970[i] ** 2\n",
    "    xybar = xybar + ltnum[i] * yearspast1970[i]\n",
    "print(xbar)\n",
    "print(ybar)\n",
    "print(xybar)\n",
    "print(x2bar)"
   ]
  },
  {
   "cell_type": "code",
   "execution_count": 12,
   "id": "693252a5",
   "metadata": {},
   "outputs": [
    {
     "name": "stdout",
     "output_type": "stream",
     "text": [
      "0.7918177054021395 \n",
      " -0.011028703745525129\n"
     ]
    }
   ],
   "source": [
    "#compute estimated least squares solution vector a1hat and a2hat from formula\n",
    "det = (x2bar - m * xbar ** 2)\n",
    "a1hat = (xybar - m * xbar * ybar) / det\n",
    "a2hat = (ybar * x2bar - xbar * xybar) / det\n",
    "print(a1hat, '\\n', a2hat)"
   ]
  },
  {
   "cell_type": "code",
   "execution_count": 13,
   "id": "c627066b",
   "metadata": {},
   "outputs": [],
   "source": [
    "#convert to np array to make math operations easier\n",
    "yearspast1970 = np.array(yearspast1970)"
   ]
  },
  {
   "cell_type": "code",
   "execution_count": 14,
   "id": "10b2093e",
   "metadata": {},
   "outputs": [
    {
     "data": {
      "image/png": "[encoded data removed]",
      "text/plain": [
       "<Figure size 432x288 with 1 Axes>"
      ]
     },
     "metadata": {
      "needs_background": "light"
     },
     "output_type": "display_data"
    }
   ],
   "source": [
    "#plot data with least squares estimate\n",
    "plt.plot(yearspast1970, ltnum, 'o')\n",
    "plt.plot(yearspast1970, yearspast1970 * a1hat + a2hat)\n",
    "plt.title('Number of Transistors by Year Since 1970')\n",
    "plt.ylabel('Log base 2 of Number of transistors')\n",
    "plt.xlabel('Years since 1970')\n",
    "plt.savefig('mooreslaw.jpg')"
   ]
  }
 ],
 "metadata": {
  "kernelspec": {
   "display_name": "Python 3 (ipykernel)",
   "language": "python",
   "name": "python3"
  },
  "language_info": {
   "codemirror_mode": {
    "name": "ipython",
    "version": 3
   },
   "file_extension": ".py",
   "mimetype": "text/x-python",
   "name": "python",
   "nbconvert_exporter": "python",
   "pygments_lexer": "ipython3",
   "version": "3.9.6"
  }
 },
 "nbformat": 4,
 "nbformat_minor": 5
}
